{
 "cells": [
  {
   "cell_type": "code",
   "execution_count": 1,
   "metadata": {},
   "outputs": [],
   "source": [
    "import numpy as np\n",
    "import pandas as pd\n",
    "import pandas_profiling as pdp\n",
    "import matplotlib.pyplot as plt\n",
    "import seaborn as sns\n",
    "import models\n",
    "from models.evaluation import cross_validation_predict, cross_validation_score\n",
    "from sklearn.metrics import accuracy_score\n",
    "from utils import load_datasets, load_target, save_submission\n",
    "import json\n",
    "sns.set_style('darkgrid')\n",
    "%matplotlib inline\n"
   ]
  },
  {
   "cell_type": "code",
   "execution_count": 2,
   "metadata": {},
   "outputs": [],
   "source": [
    "config = json.load(open('./config/default.json'))\n",
    "# X_train, X_test = load_datasets([\"Age\", \"AgeSplit\", \"EducationNum\"])\n",
    "X_train, X_test = load_datasets(config['features'])\n",
    "y_train = load_target('target')"
   ]
  },
  {
   "cell_type": "code",
   "execution_count": 3,
   "metadata": {},
   "outputs": [],
   "source": [
    "rf = models.RandomForest(\n",
    "    json.load(open('config/RandomForest.json')))\n",
    "y_oofs, y_preds = cross_validation_predict(\n",
    "    rf, X_train, y_train, X_test, n_splits=5)\n"
   ]
  },
  {
   "cell_type": "code",
   "execution_count": null,
   "metadata": {},
   "outputs": [],
   "source": [
    "score = accuracy_score(y_train, np.argmax(y_oofs, axis=1))\n",
    "print(\"Random Forest\")\n",
    "print(score)\n"
   ]
  },
  {
   "cell_type": "code",
   "execution_count": null,
   "metadata": {},
   "outputs": [],
   "source": [
    "save_submission(np.argmax(y_preds, axis=1), score, 'target', \"rf\")"
   ]
  }
 ],
 "metadata": {
  "interpreter": {
   "hash": "cfd3345b3cdee65779a17cffc9fbea1a358f4203320c292f3cc90e57e7bb20e2"
  },
  "kernelspec": {
   "display_name": "Python 3.8.12 ('tensorflow26')",
   "language": "python",
   "name": "python3"
  },
  "language_info": {
   "codemirror_mode": {
    "name": "ipython",
    "version": 3
   },
   "file_extension": ".py",
   "mimetype": "text/x-python",
   "name": "python",
   "nbconvert_exporter": "python",
   "pygments_lexer": "ipython3",
   "version": "3.8.12"
  },
  "orig_nbformat": 4
 },
 "nbformat": 4,
 "nbformat_minor": 2
}
